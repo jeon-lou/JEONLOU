{
 "cells": [
  {
   "cell_type": "code",
   "execution_count": 8,
   "metadata": {},
   "outputs": [
    {
     "name": "stdout",
     "output_type": "stream",
     "text": [
      "data completed, {'good': 7, 'normal': 54, 'bad': 139}\n"
     ]
    }
   ],
   "source": [
    "###########         auto clave model   ##################\n",
    "\n",
    "import random\n",
    "\n",
    "def calc_pum(temp, pressure, time):\n",
    "    if temp >  60 or pressure > 7 or time > 10: return \"bad\"\n",
    "    elif temp >  40 or pressure > 4 or time > 6 : return \"normal\"\n",
    "    return \"good\"\n",
    "\n",
    "# psa = h, pressure = w\n",
    "fp = open(\"e:/data/psa/autoclave.csv\",\"w\",encoding=\"utf-8\")\n",
    "fp.write(\"temp,pressure,time,label\\r\\n\")\n",
    "cnt = {\"good\":0, \"normal\":0, \"bad\":0}\n",
    "for i in range(200):\n",
    "    temp = random.randint(20,70)\n",
    "    pressure = random.randint(2,10)\n",
    "    time = random.randint(2,15)\n",
    "    label = calc_pum(temp, pressure, time)\n",
    "    cnt[label] += 1\n",
    "    fp.write(\"{0},{1},{2},{3}\\r\\n\".format(temp, pressure, time, label))\n",
    "fp.close()\n",
    "print(\"data completed,\", cnt)\n"
   ]
  },
  {
   "cell_type": "code",
   "execution_count": 9,
   "metadata": {},
   "outputs": [
    {
     "name": "stderr",
     "output_type": "stream",
     "text": [
      "C:\\Anaconda3\\lib\\site-packages\\sklearn\\svm\\base.py:196: FutureWarning: The default value of gamma will change from 'auto' to 'scale' in version 0.22 to account better for unscaled features. Set gamma explicitly to 'auto' or 'scale' to avoid this warning.\n",
      "  \"avoid this warning.\", FutureWarning)\n"
     ]
    },
    {
     "data": {
      "text/plain": [
       "SVC(C=1.0, cache_size=200, class_weight=None, coef0=0.0,\n",
       "  decision_function_shape='ovr', degree=3, gamma='auto_deprecated',\n",
       "  kernel='rbf', max_iter=-1, probability=False, random_state=None,\n",
       "  shrinking=True, tol=0.001, verbose=False)"
      ]
     },
     "execution_count": 9,
     "metadata": {},
     "output_type": "execute_result"
    }
   ],
   "source": [
    "from sklearn import svm, metrics\n",
    "from sklearn.model_selection import train_test_split\n",
    "import matplotlib.pyplot as plt\n",
    "import pandas as pd\n",
    "import numpy as np\n",
    "\n",
    "tbl = pd.read_csv(\"e:/data/psa/autoclave.csv\")\n",
    "\n",
    "label = tbl[\"label\"]\n",
    "temp = tbl[\"temp\"] / 50\n",
    "pressure = tbl[\"pressure\"] / 6\n",
    "time = tbl[\"time\"] / 8\n",
    "\n",
    "wh = pd.concat([temp,pressure,time], axis=1)\n",
    "\n",
    "data_train, data_test, label_train, label_test = \\\n",
    "    train_test_split(wh, label)\n",
    "\n",
    "clf = svm.SVC()\n",
    "clf.fit(data_train, label_train)\n",
    "#predict = clf.predict(data_test)"
   ]
  },
  {
   "cell_type": "code",
   "execution_count": 11,
   "metadata": {},
   "outputs": [
    {
     "name": "stdout",
     "output_type": "stream",
     "text": [
      "['normal']\n"
     ]
    }
   ],
   "source": [
    "raw = [30/50, 4/6, 7.5/8]\n",
    "test = np.array(raw)\n",
    "test = test.reshape(1,-1)\n",
    "print(clf.predict(test))"
   ]
  },
  {
   "cell_type": "code",
   "execution_count": null,
   "metadata": {},
   "outputs": [],
   "source": []
  }
 ],
 "metadata": {
  "kernelspec": {
   "display_name": "Python 3",
   "language": "python",
   "name": "python3"
  },
  "language_info": {
   "codemirror_mode": {
    "name": "ipython",
    "version": 3
   },
   "file_extension": ".py",
   "mimetype": "text/x-python",
   "name": "python",
   "nbconvert_exporter": "python",
   "pygments_lexer": "ipython3",
   "version": "3.7.3"
  }
 },
 "nbformat": 4,
 "nbformat_minor": 2
}
